{
  "nbformat": 4,
  "nbformat_minor": 0,
  "metadata": {
    "colab": {
      "provenance": [],
      "authorship_tag": "ABX9TyN1uCv25cEAniQwOZ+hvGDV",
      "include_colab_link": true
    },
    "kernelspec": {
      "name": "python3",
      "display_name": "Python 3"
    },
    "language_info": {
      "name": "python"
    }
  },
  "cells": [
    {
      "cell_type": "markdown",
      "metadata": {
        "id": "view-in-github",
        "colab_type": "text"
      },
      "source": [
        "<a href=\"https://colab.research.google.com/github/parksinyu/BP_10_Ch5/blob/main/EXE221107_5.ipynb\" target=\"_parent\"><img src=\"https://colab.research.google.com/assets/colab-badge.svg\" alt=\"Open In Colab\"/></a>"
      ]
    },
    {
      "cell_type": "code",
      "execution_count": 1,
      "metadata": {
        "colab": {
          "base_uri": "https://localhost:8080/"
        },
        "id": "M7qlFMbJ4xc-",
        "outputId": "d8a4948b-b15d-40da-8eb6-55fd7240f990"
      },
      "outputs": [
        {
          "output_type": "stream",
          "name": "stdout",
          "text": [
            "20살 이상\n"
          ]
        }
      ],
      "source": [
        "age = 20\n",
        "if age <20:\n",
        "  print('20살 미만')\n",
        "else:\n",
        "  print('20살 이상')"
      ]
    },
    {
      "cell_type": "code",
      "source": [
        "age = 33\n",
        "if age >= 30 and age <= 50:\n",
        " print('30살 이상이고 50살 이하')"
      ],
      "metadata": {
        "colab": {
          "base_uri": "https://localhost:8080/"
        },
        "id": "Sh0opfHe6Led",
        "outputId": "4fbe3957-6a81-428c-8cb5-aab62634c83c"
      },
      "execution_count": 5,
      "outputs": [
        {
          "output_type": "stream",
          "name": "stdout",
          "text": [
            "30살 이상이고 50살 이하\n"
          ]
        }
      ]
    },
    {
      "cell_type": "code",
      "source": [
        "temp = int(input(\"현재 온도를 입력하시오\"))\n",
        "\n",
        "if temp >= 25:\n",
        "  print(\"반바지를 입으세요\")\n",
        "else:\n",
        "  print(\"긴바지를 입으세요\")"
      ],
      "metadata": {
        "colab": {
          "base_uri": "https://localhost:8080/"
        },
        "id": "s_NfZKm66Uo1",
        "outputId": "c2d9f39c-e049-4d8b-911d-e7f8ca876a56"
      },
      "execution_count": 7,
      "outputs": [
        {
          "output_type": "stream",
          "name": "stdout",
          "text": [
            "현재 온도를 입력하시오13\n",
            "긴바지를 입으세요\n"
          ]
        }
      ]
    },
    {
      "cell_type": "code",
      "source": [
        "score = int(input(\"성적을 입력하시오: \"))\n",
        "\n",
        "if score >= 90:\n",
        "  print(\"A학점입니다.\")\n",
        "elif score >= 80:\n",
        "  print(\"B학점입니다.\")\n",
        "elif score >= 70:\n",
        "  print(\"C학점입니다.\")\n",
        "elif score >= 60:\n",
        "  print(\"D학점입니다.\")\n",
        "else :\n",
        "  print(\"F학점입니다.\")"
      ],
      "metadata": {
        "colab": {
          "base_uri": "https://localhost:8080/"
        },
        "id": "xHpqXdrg-50k",
        "outputId": "ec30e423-45b5-417f-cbfb-a93137596a44"
      },
      "execution_count": 10,
      "outputs": [
        {
          "output_type": "stream",
          "name": "stdout",
          "text": [
            "성적을 입력하시오: 99\n",
            "A학점입니다.\n"
          ]
        }
      ]
    },
    {
      "cell_type": "code",
      "source": [
        "import random\n",
        "x = random.randint(1,100)\n",
        "y = random.randint(1,100)\n",
        "\n",
        "ans = int(input(str(x)+\"-\"+str(y)+\"=\"))\n",
        "\n",
        "if ans == x-y :\n",
        "  print(\"맞았습니다.\")\n",
        "else :\n",
        "  print(\"틀렸습니다\")"
      ],
      "metadata": {
        "colab": {
          "base_uri": "https://localhost:8080/"
        },
        "id": "CUXHTtq1AVQc",
        "outputId": "d3dae4e2-ebef-4ddd-8e86-df95c7e09020"
      },
      "execution_count": 11,
      "outputs": [
        {
          "output_type": "stream",
          "name": "stdout",
          "text": [
            "50-88=-38\n",
            "맞았습니다.\n"
          ]
        }
      ]
    },
    {
      "cell_type": "code",
      "source": [
        "n = int(input(\"정수를 입력하시오: \"))\n",
        "\n",
        "if n%2==0 and n%3==0:\n",
        "  print(\"2와 3으로 나누어 떨어집니다.\")\n",
        "else :\n",
        "  print(\"2와 3으로 나누어 떨어지지 않습니다.\")"
      ],
      "metadata": {
        "colab": {
          "base_uri": "https://localhost:8080/"
        },
        "id": "rQtM1kwuBEd0",
        "outputId": "d21cfd84-ec4c-4b01-9dbf-87df7d85be18"
      },
      "execution_count": 14,
      "outputs": [
        {
          "output_type": "stream",
          "name": "stdout",
          "text": [
            "정수를 입력하시오: 26\n",
            "2와 3으로 나누어 떨어지지 않습니다.\n"
          ]
        }
      ]
    },
    {
      "cell_type": "code",
      "source": [
        "import random\n",
        "\n",
        "solution = random.randint(0,99)\n",
        "\n",
        "user = int(input(\"복권번호를 입력하시오(0에서 99사이): \"\n",
        "))\n",
        "\n",
        "digit1 = solution // 10\n",
        "digit2 = solution % 10\n",
        "\n",
        "u_digit1 = user // 10\n",
        "u_digit2 = user % 10\n",
        "\n",
        "print(\"당첨번호는\", solution, \"입니다.\")\n",
        "if(digit1 ==u_digit1 and digit2 == u_digit2):\n",
        "  print(\"상금은 100만원 입니다.\")\n",
        "elif(digit1 == u_digit1\n",
        "     or digit1 == u_digit2\n",
        "     or digit2 == u_digit1\n",
        "     or digit2 == u_digit2):\n",
        "  print(\"상금은 50만원입니다.\")\n",
        "else:\n",
        "  print(\"상금은 없습니다.\")"
      ],
      "metadata": {
        "colab": {
          "base_uri": "https://localhost:8080/"
        },
        "id": "XzkHqixaBmzE",
        "outputId": "4ca91461-02d5-42c7-da20-801ba431209e"
      },
      "execution_count": 41,
      "outputs": [
        {
          "output_type": "stream",
          "name": "stdout",
          "text": [
            "복권번호를 입력하시오(0에서 99사이): 57\n",
            "당첨번호는 1 입니다.\n",
            "상금은 없습니다.\n"
          ]
        }
      ]
    },
    {
      "cell_type": "code",
      "source": [
        "import turtle\n",
        "t = turtle.Turtle()\n",
        "t.shape(\"turtle\")\n",
        "\n",
        "x1 = int(input(\"큰 원의 중심좌표 x1: \"))\n",
        "y1 = int(input(\"큰 원의 중심좌표 y1: \"))\n",
        "r1 = int(input(\"큰 원의 반지름: \"))\n",
        "x2 = int(input(\"작은 원의 중심좌표 x2: \"))\n",
        "y2 = int(input(\"작은 원의 중심좌표 y2: \"))\n",
        "r2 = int(input(\"작은 원의 반지름: \"))\n",
        "\n",
        "t.penup()\n",
        "t.goto(x1,y1)\n",
        "t.pendown()\n",
        "t.circle(r1)\n",
        "\n",
        "t.penup()\n",
        "t.goto(x2,y2)\n",
        "t.pendown()\n",
        "t.circle(r2)\n",
        "\n",
        "dist = ((x1 - x2) * (x1 - x2) + (y1 - y2) * (y1 - y2)) **0.5\n",
        "if dist <= r1-r2:\n",
        "  turtle.write(\"두번째 원이 첫번째 원의 내부에 있습니다.\")\n",
        "elif dist <= r1+r2:\n",
        "  turtle.write(\"두번째 원이 첫번째 원과 겹치지 않습니다.\")\n",
        "t._screen.exitonclick()                     #화면을 마우스로 클릭해야 종료되게 하는 부분"
      ],
      "metadata": {
        "id": "2k8suheuC3vc"
      },
      "execution_count": null,
      "outputs": []
    },
    {
      "cell_type": "code",
      "source": [],
      "metadata": {
        "id": "Shg47JWoFMGl"
      },
      "execution_count": null,
      "outputs": []
    }
  ]
}