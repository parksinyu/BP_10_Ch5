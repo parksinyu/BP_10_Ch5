{
  "nbformat": 4,
  "nbformat_minor": 0,
  "metadata": {
    "colab": {
      "provenance": [],
      "authorship_tag": "ABX9TyOfFGC70rqMN3i2IRzZnVQ1",
      "include_colab_link": true
    },
    "kernelspec": {
      "name": "python3",
      "display_name": "Python 3"
    },
    "language_info": {
      "name": "python"
    }
  },
  "cells": [
    {
      "cell_type": "markdown",
      "metadata": {
        "id": "view-in-github",
        "colab_type": "text"
      },
      "source": [
        "<a href=\"https://colab.research.google.com/github/parksinyu/BP_10_Ch5/blob/main/EXE221107_5.ipynb\" target=\"_parent\"><img src=\"https://colab.research.google.com/assets/colab-badge.svg\" alt=\"Open In Colab\"/></a>"
      ]
    },
    {
      "cell_type": "code",
      "execution_count": null,
      "metadata": {
        "colab": {
          "base_uri": "https://localhost:8080/"
        },
        "id": "M7qlFMbJ4xc-",
        "outputId": "d8a4948b-b15d-40da-8eb6-55fd7240f990"
      },
      "outputs": [
        {
          "output_type": "stream",
          "name": "stdout",
          "text": [
            "20살 이상\n"
          ]
        }
      ],
      "source": [
        "age = 20                  #나이 입력\n",
        "if age <20:               #만약 20살 미만이라면\n",
        "  print('20살 미만')      #'20살 미만' 출력\n",
        "else:                     #20살 미만 그 외\n",
        "  print('20살 이상')      #'20살 이상' 출력"
      ]
    },
    {
      "cell_type": "code",
      "source": [
        "age = 33                              #나이 입력\n",
        "if age >= 30 and age <= 50:           #만약 나이가 30살 이상이고 50살 이하라면\n",
        " print('30살 이상이고 50살 이하')     #'30살 이상이고 50살 이하' 출력"
      ],
      "metadata": {
        "colab": {
          "base_uri": "https://localhost:8080/"
        },
        "id": "Sh0opfHe6Led",
        "outputId": "4fbe3957-6a81-428c-8cb5-aab62634c83c"
      },
      "execution_count": null,
      "outputs": [
        {
          "output_type": "stream",
          "name": "stdout",
          "text": [
            "30살 이상이고 50살 이하\n"
          ]
        }
      ]
    },
    {
      "cell_type": "code",
      "source": [
        "temp = int(input(\"현재 온도를 입력하시오\"))    #현재온도 입력\n",
        "\n",
        "if temp >= 25:                                 #만약 온도가 섭씨25도 이상이라면\n",
        "  print(\"반바지를 입으세요\")                   #'긴바지를 입으세요' 출력\n",
        "else:                                          #섭씨25도 이상 외\n",
        "  print(\"긴바지를 입으세요\")                   #'긴바지를 입으세요' 출력"
      ],
      "metadata": {
        "colab": {
          "base_uri": "https://localhost:8080/"
        },
        "id": "s_NfZKm66Uo1",
        "outputId": "c2d9f39c-e049-4d8b-911d-e7f8ca876a56"
      },
      "execution_count": null,
      "outputs": [
        {
          "output_type": "stream",
          "name": "stdout",
          "text": [
            "현재 온도를 입력하시오13\n",
            "긴바지를 입으세요\n"
          ]
        }
      ]
    },
    {
      "cell_type": "code",
      "source": [
        "score = int(input(\"성적을 입력하시오: \"))     #성적 입력\n",
        "\n",
        "if score >= 90:                              #만약 성적이 90점 이상\n",
        "  print(\"A학점입니다.\")                      #'A학점입니다' 출력\n",
        "elif score >= 80:                            #성적이 80점 이상\n",
        "  print(\"B학점입니다.\")                      #'B학점입니다' 출력\n",
        "elif score >= 70:                            #성적이 70점 이상\n",
        "  print(\"C학점입니다.\")                      #'C학점입니다' 출력\n",
        "elif score >= 60:                            #성적이 60점 이상\n",
        "  print(\"D학점입니다.\")                     #'D학점입니다' 출력\n",
        "else :                                      #그 외\n",
        "  print(\"F학점입니다.\")                     #'F학점입니다' 출력"
      ],
      "metadata": {
        "colab": {
          "base_uri": "https://localhost:8080/"
        },
        "id": "xHpqXdrg-50k",
        "outputId": "ec30e423-45b5-417f-cbfb-a93137596a44"
      },
      "execution_count": null,
      "outputs": [
        {
          "output_type": "stream",
          "name": "stdout",
          "text": [
            "성적을 입력하시오: 99\n",
            "A학점입니다.\n"
          ]
        }
      ]
    },
    {
      "cell_type": "code",
      "source": [
        "import random                             #랜덤 불러옴\n",
        "x = random.randint(1,100)                 \n",
        "y = random.randint(1,100)\n",
        "\n",
        "ans = int(input(str(x)+\"-\"+str(y)+\"=\"))\n",
        "\n",
        "if ans == x-y :\n",
        "  print(\"맞았습니다.\")\n",
        "else :\n",
        "  print(\"틀렸습니다\")"
      ],
      "metadata": {
        "colab": {
          "base_uri": "https://localhost:8080/"
        },
        "id": "CUXHTtq1AVQc",
        "outputId": "d21beaa7-7378-499a-c7a0-4e724254860a"
      },
      "execution_count": null,
      "outputs": [
        {
          "output_type": "stream",
          "name": "stdout",
          "text": [
            "46-34=12\n",
            "맞았습니다.\n"
          ]
        }
      ]
    },
    {
      "cell_type": "code",
      "source": [
        "n = int(input(\"정수를 입력하시오: \"))\n",
        "\n",
        "if n%2==0 and n%3==0:\n",
        "  print(\"2와 3으로 나누어 떨어집니다.\")\n",
        "else :\n",
        "  print(\"2와 3으로 나누어 떨어지지 않습니다.\")"
      ],
      "metadata": {
        "colab": {
          "base_uri": "https://localhost:8080/"
        },
        "id": "rQtM1kwuBEd0",
        "outputId": "d21cfd84-ec4c-4b01-9dbf-87df7d85be18"
      },
      "execution_count": null,
      "outputs": [
        {
          "output_type": "stream",
          "name": "stdout",
          "text": [
            "정수를 입력하시오: 26\n",
            "2와 3으로 나누어 떨어지지 않습니다.\n"
          ]
        }
      ]
    },
    {
      "cell_type": "code",
      "source": [
        "import random \n",
        "\n",
        "solution = random.randint(0,99)\n",
        "\n",
        "user = int(input(\"복권번호를 입력하시오(0에서 99사이): \"\n",
        "))\n",
        "\n",
        "digit1 = solution // 10\n",
        "digit2 = solution % 10\n",
        "\n",
        "u_digit1 = user // 10\n",
        "u_digit2 = user % 10\n",
        "\n",
        "print(\"당첨번호는\", solution, \"입니다.\")\n",
        "if(digit1 ==u_digit1 and digit2 == u_digit2):\n",
        "  print(\"상금은 100만원 입니다.\")\n",
        "elif(digit1 == u_digit1\n",
        "     or digit1 == u_digit2\n",
        "     or digit2 == u_digit1\n",
        "     or digit2 == u_digit2):\n",
        "  print(\"상금은 50만원입니다.\")\n",
        "else:\n",
        "  print(\"상금은 없습니다.\")"
      ],
      "metadata": {
        "colab": {
          "base_uri": "https://localhost:8080/"
        },
        "id": "XzkHqixaBmzE",
        "outputId": "b19ebcad-aaba-4f81-bbc6-7be549bca2cf"
      },
      "execution_count": null,
      "outputs": [
        {
          "output_type": "stream",
          "name": "stdout",
          "text": [
            "복권번호를 입력하시오(0에서 99사이): 15\n",
            "당첨번호는 64 입니다.\n",
            "상금은 없습니다.\n"
          ]
        }
      ]
    },
    {
      "cell_type": "code",
      "source": [
        "import turtle\n",
        "t = turtle.Turtle()\n",
        "t.shape(\"turtle\")\n",
        "\n",
        "x1 = int(input(\"큰 원의 중심좌표 x1: \"))\n",
        "y1 = int(input(\"큰 원의 중심좌표 y1: \"))\n",
        "r1 = int(input(\"큰 원의 반지름: \"))\n",
        "x2 = int(input(\"작은 원의 중심좌표 x2: \"))\n",
        "y2 = int(input(\"작은 원의 중심좌표 y2: \"))\n",
        "r2 = int(input(\"작은 원의 반지름: \"))\n",
        "\n",
        "t.penup()\n",
        "t.goto(x1,y1)\n",
        "t.pendown()\n",
        "t.circle(r1)\n",
        "\n",
        "t.penup()\n",
        "t.goto(x2,y2)\n",
        "t.pendown()\n",
        "t.circle(r2)\n",
        "\n",
        "dist = ((x1 - x2) * (x1 - x2) + (y1 - y2) * (y1 - y2)) **0.5\n",
        "if dist <= r1-r2:\n",
        "  turtle.write(\"두번째 원이 첫번째 원의 내부에 있습니다.\")\n",
        "elif dist <= r1+r2:\n",
        "  turtle.write(\"두번째 원이 첫번째 원과 겹치지 않습니다.\")\n",
        "t._screen.exitonclick()                     #화면을 마우스로 클릭해야 종료되게 하는 부분"
      ],
      "metadata": {
        "id": "2k8suheuC3vc"
      },
      "execution_count": null,
      "outputs": []
    },
    {
      "cell_type": "code",
      "source": [],
      "metadata": {
        "id": "Shg47JWoFMGl"
      },
      "execution_count": null,
      "outputs": []
    }
  ]
}